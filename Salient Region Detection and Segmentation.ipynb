{
 "cells": [
  {
   "cell_type": "code",
   "execution_count": 1,
   "metadata": {},
   "outputs": [],
   "source": [
    "import numpy as np\n",
    "import cv2\n",
    "from sklearn.feature_extraction.image import extract_patches_2d"
   ]
  },
  {
   "cell_type": "code",
   "execution_count": 18,
   "metadata": {},
   "outputs": [
    {
     "data": {
      "text/plain": [
       "'def mean_saliency(image, scale_1):\\n    h, w, n_chan = image.shape()\\n    w2 = min(h,w)\\n    scales_2 = [w2/2, w2/4, w2/8]\\n    c_mat = np.zeros((3,h,w))\\n    reg_1 = extract_region(image, 1)\\n    for s in range(3):\\n        reg_2 = extract_region(image, scales_2[s])\\n        for i range(h):\\n            for j in range(w):\\n                c_mat[s,i,j] = contrast_saliency()'"
      ]
     },
     "execution_count": 18,
     "metadata": {},
     "output_type": "execute_result"
    }
   ],
   "source": [
    "def contrast_saliency(R1, R2):\n",
    "    h1, w1, n_chan = R1.shape()\n",
    "    h2, w2, n_chan = R2.shape()\n",
    "    N1 = h1*w1\n",
    "    N2 = h2*w2\n",
    "    \n",
    "    return np.linalg.norm(np.mean(R1, axis=(0,1)), np.mean(R2, axis=(0,1)))\n",
    "    \n",
    "def extract_region(image, scale):\n",
    "    pad_im = np.pad(image, scale, mode='symmetric')\n",
    "    regions = extract_patches_2d(pad_im, (scale,scale))\n",
    "    return regions\n",
    "\"\"\"def mean_saliency(image, scale_1):\n",
    "    h, w, n_chan = image.shape()\n",
    "    w2 = min(h,w)\n",
    "    scales_2 = [w2/2, w2/4, w2/8]\n",
    "    c_mat = np.zeros((3,h,w))\n",
    "    reg_1 = extract_region(image, 1)\n",
    "    for s in range(3):\n",
    "        reg_2 = extract_region(image, scales_2[s])\n",
    "        for i range(h):\n",
    "            for j in range(w):\n",
    "                c_mat[s,i,j] = contrast_saliency()\"\"\""
   ]
  },
  {
   "cell_type": "code",
   "execution_count": 13,
   "metadata": {},
   "outputs": [
    {
     "name": "stdout",
     "output_type": "stream",
     "text": [
      "[[0 2 2]\n",
      " [7 1 7]\n",
      " [3 7 0]]\n"
     ]
    },
    {
     "ename": "NameError",
     "evalue": "name 'extract_region' is not defined",
     "output_type": "error",
     "traceback": [
      "\u001b[0;31m---------------------------------------------------------------------------\u001b[0m",
      "\u001b[0;31mNameError\u001b[0m                                 Traceback (most recent call last)",
      "\u001b[0;32m<ipython-input-13-ca8f0a40e6db>\u001b[0m in \u001b[0;36m<module>\u001b[0;34m()\u001b[0m\n\u001b[1;32m      2\u001b[0m \u001b[0;32mprint\u001b[0m\u001b[0;34m(\u001b[0m\u001b[0mim\u001b[0m\u001b[0;34m)\u001b[0m\u001b[0;34m\u001b[0m\u001b[0m\n\u001b[1;32m      3\u001b[0m \u001b[0;31m#im_pad = np.pad(im, 2, mode='symmetric')\u001b[0m\u001b[0;34m\u001b[0m\u001b[0;34m\u001b[0m\u001b[0m\n\u001b[0;32m----> 4\u001b[0;31m \u001b[0mreg\u001b[0m \u001b[0;34m=\u001b[0m \u001b[0mextract_region\u001b[0m\u001b[0;34m(\u001b[0m\u001b[0mim\u001b[0m\u001b[0;34m,\u001b[0m \u001b[0;36m1\u001b[0m\u001b[0;34m)\u001b[0m\u001b[0;34m\u001b[0m\u001b[0m\n\u001b[0m\u001b[1;32m      5\u001b[0m \u001b[0;32mprint\u001b[0m\u001b[0;34m(\u001b[0m\u001b[0mreg\u001b[0m\u001b[0;34m)\u001b[0m\u001b[0;34m\u001b[0m\u001b[0m\n",
      "\u001b[0;31mNameError\u001b[0m: name 'extract_region' is not defined"
     ]
    }
   ],
   "source": [
    "im = np.random.randint(0,9,(3,3))\n",
    "print(im)\n",
    "#im_pad = np.pad(im, 2, mode='symmetric')\n",
    "reg = extract_region(im, 1)\n",
    "print(reg)"
   ]
  },
  {
   "cell_type": "code",
   "execution_count": null,
   "metadata": {},
   "outputs": [],
   "source": []
  }
 ],
 "metadata": {
  "kernelspec": {
   "display_name": "Python 2",
   "language": "python",
   "name": "python2"
  },
  "language_info": {
   "codemirror_mode": {
    "name": "ipython",
    "version": 2
   },
   "file_extension": ".py",
   "mimetype": "text/x-python",
   "name": "python",
   "nbconvert_exporter": "python",
   "pygments_lexer": "ipython2",
   "version": "2.7.12"
  }
 },
 "nbformat": 4,
 "nbformat_minor": 2
}
